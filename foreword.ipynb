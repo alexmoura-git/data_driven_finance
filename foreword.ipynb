{
 "cells": [
  {
   "cell_type": "markdown",
   "id": "840a316b",
   "metadata": {},
   "source": [
    "# Foreword\n",
    "\n",
    "> Content for foreword..."
   ]
  }
 ],
 "metadata": {},
 "nbformat": 4,
 "nbformat_minor": 5
}

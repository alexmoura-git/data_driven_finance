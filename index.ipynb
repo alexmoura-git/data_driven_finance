{
 "cells": [
  {
   "cell_type": "markdown",
   "id": "c0d4a206",
   "metadata": {},
   "source": [
    "# Index\n",
    "\n",
    "> Content for index..."
   ]
  }
 ],
 "metadata": {},
 "nbformat": 4,
 "nbformat_minor": 5
}

{
 "cells": [
  {
   "cell_type": "markdown",
   "id": "0b21605e",
   "metadata": {},
   "source": [
    "# Glossary\n",
    "\n",
    "> Content for glossary..."
   ]
  }
 ],
 "metadata": {},
 "nbformat": 4,
 "nbformat_minor": 5
}

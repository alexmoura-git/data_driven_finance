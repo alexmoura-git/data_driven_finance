{
 "cells": [
  {
   "cell_type": "markdown",
   "id": "6c740dd4",
   "metadata": {},
   "source": [
    "# Copyright Page\n",
    "\n",
    "> Content for copyright page..."
   ]
  }
 ],
 "metadata": {},
 "nbformat": 4,
 "nbformat_minor": 5
}

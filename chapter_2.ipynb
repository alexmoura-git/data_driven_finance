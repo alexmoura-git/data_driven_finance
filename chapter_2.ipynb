{
 "cells": [
  {
   "cell_type": "markdown",
   "id": "f67be631",
   "metadata": {},
   "source": [
    "# Chapter 2\n",
    "\n",
    "> Content for chapter 2..."
   ]
  }
 ],
 "metadata": {},
 "nbformat": 4,
 "nbformat_minor": 5
}

{
 "cells": [
  {
   "cell_type": "markdown",
   "id": "ae7afba2",
   "metadata": {},
   "source": [
    "# Endnotes or Footnotes\n",
    "\n",
    "> Content for endnotes or footnotes..."
   ]
  }
 ],
 "metadata": {
  "language_info": {
   "codemirror_mode": {
    "name": "ipython",
    "version": 3
   },
   "file_extension": ".py",
   "mimetype": "text/x-python",
   "name": "python",
   "nbconvert_exporter": "python",
   "pygments_lexer": "ipython3",
   "version": "3.7.6"
  }
 },
 "nbformat": 4,
 "nbformat_minor": 5
}
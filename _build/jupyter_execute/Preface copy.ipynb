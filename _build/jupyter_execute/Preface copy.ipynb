{
 "cells": [
  {
   "cell_type": "markdown",
   "id": "d2544fc0",
   "metadata": {},
   "source": [
    "# Preface\n",
    "\n",
    "> Content for preface..."
   ]
  }
 ],
 "metadata": {
  "language_info": {
   "codemirror_mode": {
    "name": "ipython",
    "version": 3
   },
   "file_extension": ".py",
   "mimetype": "text/x-python",
   "name": "python",
   "nbconvert_exporter": "python",
   "pygments_lexer": "ipython3",
   "version": "3.7.6"
  }
 },
 "nbformat": 4,
 "nbformat_minor": 5
}
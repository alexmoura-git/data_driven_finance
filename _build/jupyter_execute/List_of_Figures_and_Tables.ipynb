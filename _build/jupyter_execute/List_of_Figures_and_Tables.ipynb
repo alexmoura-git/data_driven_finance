{
 "cells": [
  {
   "cell_type": "markdown",
   "id": "9b770058",
   "metadata": {},
   "source": [
    "# List of Figures and Tables\n",
    "\n",
    "> Content for list of figures and tables..."
   ]
  }
 ],
 "metadata": {
  "language_info": {
   "codemirror_mode": {
    "name": "ipython",
    "version": 3
   },
   "file_extension": ".py",
   "mimetype": "text/x-python",
   "name": "python",
   "nbconvert_exporter": "python",
   "pygments_lexer": "ipython3",
   "version": "3.7.6"
  }
 },
 "nbformat": 4,
 "nbformat_minor": 5
}
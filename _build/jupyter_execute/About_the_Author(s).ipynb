{
 "cells": [
  {
   "cell_type": "markdown",
   "id": "48ad9dde",
   "metadata": {},
   "source": [
    "# About the Author(s)\n",
    "\n",
    "> Content for about the author(s)..."
   ]
  }
 ],
 "metadata": {
  "language_info": {
   "codemirror_mode": {
    "name": "ipython",
    "version": 3
   },
   "file_extension": ".py",
   "mimetype": "text/x-python",
   "name": "python",
   "nbconvert_exporter": "python",
   "pygments_lexer": "ipython3",
   "version": "3.7.6"
  }
 },
 "nbformat": 4,
 "nbformat_minor": 5
}